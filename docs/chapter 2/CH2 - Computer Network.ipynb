{
 "cells": [
  {
   "cell_type": "code",
   "execution_count": null,
   "metadata": {
    "colab": {
     "base_uri": "https://localhost:8080/"
    },
    "executionInfo": {
     "elapsed": 381,
     "status": "ok",
     "timestamp": 1675356265722,
     "user": {
      "displayName": "Suresh Gautam",
      "userId": "01150031521175671930"
     },
     "user_tz": -345
    },
    "id": "7r_qea_nLyh0",
    "outputId": "f4b25f90-453b-46e6-9aa5-0bdab17c7464"
   },
   "outputs": [
    {
     "name": "stdout",
     "output_type": "stream",
     "text": [
      "127.0.0.1\tlocalhost\n",
      "::1\tlocalhost ip6-localhost ip6-loopback\n",
      "fe00::0\tip6-localnet\n",
      "ff00::0\tip6-mcastprefix\n",
      "ff02::1\tip6-allnodes\n",
      "ff02::2\tip6-allrouters\n",
      "172.28.0.12\td2845de138f7\n"
     ]
    }
   ],
   "source": [
    "#\n",
    "# Setup P2P Network Practice\n",
    "#\n",
    "#!pip install pycryptodomex\n",
    "#!pip install trio\n",
    "\n",
    "!cat /etc/hosts\n"
   ]
  },
  {
   "cell_type": "code",
   "execution_count": null,
   "metadata": {
    "id": "8ZGjRrZpcVoe"
   },
   "outputs": [],
   "source": [
    "# P2P Network - File Transfer Praceice - Server Part\n",
    "# It's complecated to implement the P2P Network in a colab environment\n",
    "# It's good to run server part in a Linux based terminal and\n",
    "# client part in separate terminal\n",
    "import socket\n",
    "\n",
    "def receive_file(file_path, host, port):\n",
    "    # Create a socket and bind to the host and port\n",
    "    sock = socket.socket(socket.AF_INET, socket.SOCK_STREAM)\n",
    "    sock.bind((host, port))\n",
    "    sock.listen(1)\n",
    "    print(\"Server listening on {}:{}...\".format(host, port))\n",
    "\n",
    "    # Wait for a client to connect\n",
    "    conn, addr = sock.accept()\n",
    "    print(\"Connection from {} established.\".format(addr))\n",
    "\n",
    "    # Open the file and receive data from the client\n",
    "    with open(file_path, 'wb') as f:\n",
    "        while True:\n",
    "            data = conn.recv(1024)\n",
    "            if not data:\n",
    "                break\n",
    "            f.write(data)\n",
    "    conn.close()\n",
    "    print(\"File received successfully!\")\n",
    "\n",
    "if __name__ == '__main__':\n",
    "    file_path = input(\"Enter file path: \")\n",
    "    host = input(\"Enter host IP: \")\n",
    "    port = int(input(\"Enter port number: \"))\n",
    "    receive_file(file_path, host, port)\n"
   ]
  },
  {
   "cell_type": "code",
   "execution_count": null,
   "metadata": {
    "id": "LXY6-VeLcMIu"
   },
   "outputs": [],
   "source": [
    "#\n",
    "# P2P Network - File Transfer Practice - Client Part\n",
    "# It's complecated to implement the P2P Network in a colab environment\n",
    "# It's good to run server part in a Linux based terminal and\n",
    "# client part in separate terminal\n",
    "#\n",
    "import socket\n",
    "\n",
    "def send_file(file_path, host, port):\n",
    "    # Create a socket and connect to the server\n",
    "    sock = socket.socket(socket.AF_INET, socket.SOCK_STREAM)\n",
    "    sock.connect((host, port))\n",
    "\n",
    "    # Open the file and send data to the server\n",
    "    with open(file_path, 'rb') as f:\n",
    "        sock.sendall(f.read())\n",
    "    sock.close()\n",
    "    print(\"File sent successfully!\")\n",
    "\n",
    "if __name__ == '__main__':\n",
    "    file_path = input(\"Enter file path: \")\n",
    "    host = input(\"Enter host IP: \")\n",
    "    port = int(input(\"Enter port number: \"))\n",
    "    send_file(file_path, host, port)"
   ]
  },
  {
   "cell_type": "code",
   "execution_count": 1,
   "metadata": {
    "colab": {
     "base_uri": "https://localhost:8080/"
    },
    "executionInfo": {
     "elapsed": 12,
     "status": "ok",
     "timestamp": 1675401068220,
     "user": {
      "displayName": "Suresh Gautam",
      "userId": "01150031521175671930"
     },
     "user_tz": -345
    },
    "id": "Kb3UN8VxQaDM",
    "outputId": "9a36451e-b441-4eff-f05b-abb66e6e6c63"
   },
   "outputs": [
    {
     "name": "stdout",
     "output_type": "stream",
     "text": [
      "Process function result:Process function result:Process function result: Process function result:     8426  \n",
      "\n",
      "\n",
      "\n",
      "\n",
      "\n",
      "\n",
      "\n",
      "All results: [2, 4, 6, 8]\n"
     ]
    }
   ],
   "source": [
    "#\n",
    "# Distributed Networks - Similated Praceice\n",
    "#\n",
    "import multiprocessing\n",
    "\n",
    "# Define a function that will be executed on a separate process\n",
    "def process_function(input_data):\n",
    "    # Perform some computation on the input data\n",
    "    result = input_data * 2\n",
    "    print(\"Process function result:\", result,\"\\n\")\n",
    "    return result\n",
    "\n",
    "if __name__ == '__main__':\n",
    "    # Create a process pool with 4 worker processes\n",
    "    with multiprocessing.Pool(processes=4) as pool:\n",
    "        # Define the input data for the processes\n",
    "        input_data = [1, 2, 3, 4]\n",
    "        # Use the map function to apply the process function to the input data\n",
    "        results = pool.map(process_function, input_data)\n",
    "        print(\"All results:\", results)\n",
    "\n",
    "# In this example, the script creates a process pool with 4 worker processes using the multiprocessing.Pool class. \n",
    "# It then defines a function called process_function that takes an input data and performs some computation on it \n",
    "# (in this case, it multiplies the input by 2).\n",
    "# The script then uses the map function of the process pool to apply the process_function to each element \n",
    "# of the input data. This is done in parallel across the 4 worker processes, which allows for faster computation times. \n",
    "# The results of each process are collected and returned in a list which is printed out.\n"
   ]
  },
  {
   "cell_type": "code",
   "execution_count": null,
   "metadata": {
    "id": "3cJZvlk2MBPf"
   },
   "outputs": [],
   "source": []
  },
  {
   "cell_type": "code",
   "execution_count": null,
   "metadata": {
    "id": "RFEt_VDWpysV"
   },
   "outputs": [],
   "source": [
    "#\n",
    "# Proof of Work (PoW) Practice\n",
    "#\n",
    "# To DO:\n",
    "# Improve by adding a time limit for finding the nonce, \n",
    "# or increasing the difficulty target for better security.\n",
    "#\n",
    "import hashlib\n",
    "\n",
    "# Difficulty target (number of leading zeros in the hash)\n",
    "# Means that the output of the hash function should have 2 leading zeros\n",
    "difficulty = 2\n",
    "\n",
    "# Data to be hashed\n",
    "data = b\"Hello Kathmandu University!\"\n",
    "\n",
    "# Nonce - Number used in live data transmitting services in order to protect against replay attacks and other disruptions\n",
    "# Find a nonce that meets the difficulty target\n",
    "# Nonce starting with 0, it will keep increasing and test the hash meets the difficulty target\n",
    "nonce = 0\n",
    "while True:\n",
    "    # Concatenate the data and nonce\n",
    "    input_data = data + str(nonce).encode()\n",
    "    print(\"Data and Nonce Value: \",input_data)\n",
    "    # Hash the input data\n",
    "    hashed_data = hashlib.sha256(input_data).hexdigest()\n",
    "    print(\"Hash Data :\",hashed_data)\n",
    "    # Check if the hash meets the difficulty target\n",
    "    if hashed_data[:difficulty] == \"0\" * difficulty:\n",
    "        print(\"Found a valid nonce (Encode Format):\", nonce)\n",
    "        print(\"Hash:\", hashed_data)\n",
    "        break\n",
    "    nonce += 1\n",
    "# It keeps running to get changed hash value until it found the hash value \n",
    "# having two leading 0 in the beginning"
   ]
  },
  {
   "cell_type": "code",
   "execution_count": null,
   "metadata": {
    "colab": {
     "base_uri": "https://localhost:8080/"
    },
    "executionInfo": {
     "elapsed": 439,
     "status": "ok",
     "timestamp": 1674632609747,
     "user": {
      "displayName": "Suresh Gautam",
      "userId": "01150031521175671930"
     },
     "user_tz": -345
    },
    "id": "cnX1fm0rqP3u",
    "outputId": "2a603001-d116-46b5-901e-80d5e41d98ca"
   },
   "outputs": [
    {
     "name": "stdout",
     "output_type": "stream",
     "text": [
      "Transaction added to blockchain.\n",
      "Transaction rejected. Node node10 is not a validator.\n"
     ]
    }
   ],
   "source": [
    "#\n",
    "# Proof of Authority (PoW) Practice\n",
    "#\n",
    "# Proof of Authority (PoA) is a consensus mechanism used in blockchain networks \n",
    "# where the authority to validate transactions is given to a pre-selected group \n",
    "# of nodes. These nodes, called validators, are responsible for verifying transactions \n",
    "# and adding them to the blockchain.\n",
    "#\n",
    "# import the necessary libraries\n",
    "import hashlib\n",
    "\n",
    "# define the validator nodes\n",
    "validators = [\"node1\", \"node2\", \"node3\"]\n",
    "\n",
    "# define the blockchain as a list\n",
    "# will simulate as if it's a blockchan trail\n",
    "blockchain = []\n",
    "\n",
    "# define a function to check if a node is a validator\n",
    "def is_validator(node):\n",
    "    if node in validators:\n",
    "        return True\n",
    "    else:\n",
    "        return False\n",
    "\n",
    "# define a function to validate a transaction\n",
    "def validate_transaction(transaction, node):\n",
    "    if is_validator(node):\n",
    "        # calculate the hash of the transaction\n",
    "        transaction_hash = hashlib.sha256(transaction.encode()).hexdigest()\n",
    "        # add the transaction to the blockchain\n",
    "        add_to_blockchain(transaction_hash)\n",
    "        return True\n",
    "    else:\n",
    "        return False\n",
    "\n",
    "# define a function to add a transaction to the blockchain\n",
    "def add_to_blockchain(transaction_hash):\n",
    "    # add the transaction to the blockchain\n",
    "    blockchain.append(transaction_hash)\n",
    "\n",
    "# test the code with positive case\n",
    "transaction = \"send 10 tokens from Alice to Bob\"\n",
    "node = \"node1\"\n",
    "if validate_transaction(transaction, node):\n",
    "    print(\"Transaction added to blockchain.\")\n",
    "else:\n",
    "    print(\"Transaction rejected. Node {} is not a validator.\".format(node))\n",
    "\n",
    "# test the code with negative case\n",
    "transaction = \"send 10 tokens from Alice to Bob\"\n",
    "# Non validator node10 sending the requesting\n",
    "node = \"node10\"\n",
    "if validate_transaction(transaction, node):\n",
    "    print(\"Transaction added to blockchain.\")\n",
    "else:\n",
    "    print(\"Transaction rejected. Node {} is not a validator.\".format(node))\n"
   ]
  },
  {
   "cell_type": "code",
   "execution_count": null,
   "metadata": {
    "colab": {
     "base_uri": "https://localhost:8080/"
    },
    "executionInfo": {
     "elapsed": 3,
     "status": "ok",
     "timestamp": 1674633994847,
     "user": {
      "displayName": "Suresh Gautam",
      "userId": "01150031521175671930"
     },
     "user_tz": -345
    },
    "id": "OX_WCJfdJFMt",
    "outputId": "c80c1edd-2a94-433e-c5fa-69ddfeb4ed53"
   },
   "outputs": [
    {
     "name": "stdout",
     "output_type": "stream",
     "text": [
      "Transaction added to blockchain by validator: node2\n",
      "Transaction added to blockchain by validator: node1\n",
      "Transaction added to blockchain by validator: node1\n",
      "Transaction added to blockchain by validator: node2\n",
      "Transaction added to blockchain by validator: node2\n",
      "Transaction added to blockchain by validator: node1\n",
      "Transaction added to blockchain by validator: node1\n",
      "Transaction added to blockchain by validator: node2\n",
      "Transaction added to blockchain by validator: node2\n",
      "Transaction added to blockchain by validator: node2\n"
     ]
    }
   ],
   "source": [
    "#\n",
    "# Proof of Stake (PoS) Practice\n",
    "#\n",
    "# Proof of Stake (PoS) is a consensus mechanism used in blockchain networks where \n",
    "# the authority to validate transactions is determined by the amount of stake \n",
    "# (or resources) a node holds in the network.\n",
    "#\n",
    "# To DO:\n",
    "# PoS also can account reputation, age of stake, and node performance\n",
    "import random\n",
    "\n",
    "# define the validator nodes\n",
    "# also has the amount of stake hold by nodes\n",
    "validators = {\n",
    "    \"node1\": 250, \n",
    "    \"node2\": 251, \n",
    "    \"node3\": 10\n",
    "}\n",
    "\n",
    "# define a function to validate a transaction\n",
    "def validate_transaction(transaction):\n",
    "    # Select a validator, higher the stake more chance to get minning opportunity\n",
    "    total_stake = sum(validators.values())\n",
    "    validator_stake = [stake/total_stake for stake in validators.values()]\n",
    "    validator = random.choices(list(validators.keys()),weights=validator_stake)[0]\n",
    "    # Calculate the hash of the transaction\n",
    "    transaction_hash = hashlib.sha256(transaction.encode()).hexdigest()\n",
    "    # Add the transaction to the blockchain\n",
    "    add_to_blockchain(transaction_hash, validator)\n",
    "    return validator\n",
    "\n",
    "# define a function to add a transaction to the blockchain\n",
    "def add_to_blockchain(transaction_hash, validator):\n",
    "    # add the transaction to the blockchain\n",
    "    blockchain.append({\"hash\": transaction_hash, \"validator\": validator})\n",
    "\n",
    "# test the code\n",
    "count = 0\n",
    "while count<10:\n",
    "  transaction = \"send 10 tokens from Alice to Bob\"\n",
    "  validator = validate_transaction(transaction)\n",
    "  print(\"Transaction added to blockchain by validator:\", validator)\n",
    "  count += 1\n"
   ]
  },
  {
   "cell_type": "code",
   "execution_count": null,
   "metadata": {
    "id": "tHYFlE7OKxHs"
   },
   "outputs": [],
   "source": []
  }
 ],
 "metadata": {
  "colab": {
   "authorship_tag": "ABX9TyOMgY/MwLiWT8E6AJ9g3E5E",
   "provenance": []
  },
  "kernelspec": {
   "display_name": "Python 3 (ipykernel)",
   "language": "python",
   "name": "python3"
  },
  "language_info": {
   "codemirror_mode": {
    "name": "ipython",
    "version": 3
   },
   "file_extension": ".py",
   "mimetype": "text/x-python",
   "name": "python",
   "nbconvert_exporter": "python",
   "pygments_lexer": "ipython3",
   "version": "3.10.6"
  }
 },
 "nbformat": 4,
 "nbformat_minor": 1
}
