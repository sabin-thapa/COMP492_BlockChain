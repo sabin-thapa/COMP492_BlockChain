{
 "cells": [
  {
   "cell_type": "markdown",
   "id": "c405a190",
   "metadata": {},
   "source": [
    "### Method 1: "
   ]
  },
  {
   "cell_type": "markdown",
   "id": "84aa46b2",
   "metadata": {},
   "source": [
    "Installing the bitcoin core software from the command line using the bitcoin's ppa repository"
   ]
  },
  {
   "cell_type": "code",
   "execution_count": 105,
   "id": "52fb3c1d",
   "metadata": {},
   "outputs": [
    {
     "name": "stdout",
     "output_type": "stream",
     "text": [
      "Repository: 'deb https://ppa.launchpadcontent.net/bitcoin/bitcoin/ubuntu/ jammy main'\n",
      "Description:\n",
      "NOT MAINTAINED. The OS-library linking packages here had a series of issues.\n",
      "\n",
      "PLEASE DOWNLOAD DIRECTLY FROM bitcoincore.org (and verify the signatures of said files).\n",
      "\n",
      "IF YOU WANT AUTO-UPDATES, please see the officially-maintained snap package -\n",
      "https://github.com/bitcoin-core/packaging/tree/master/snap\n",
      "More info: https://launchpad.net/~bitcoin/+archive/ubuntu/bitcoin\n",
      "Adding repository.\n",
      "Found existing deb entry in /etc/apt/sources.list.d/bitcoin-ubuntu-bitcoin-jammy.list\n",
      "Adding deb entry to /etc/apt/sources.list.d/bitcoin-ubuntu-bitcoin-jammy.list\n",
      "Found existing deb-src entry in /etc/apt/sources.list.d/bitcoin-ubuntu-bitcoin-jammy.list\n",
      "Adding disabled deb-src entry to /etc/apt/sources.list.d/bitcoin-ubuntu-bitcoin-jammy.list\n",
      "Adding key to /etc/apt/trusted.gpg.d/bitcoin-ubuntu-bitcoin.gpg with fingerprint C70EF1F0305A1ADB9986DBD8D46F45428842CE5E\n",
      "Hit:1 https://download.docker.com/linux/ubuntu jammy InRelease\n",
      "Hit:2 https://dl.google.com/linux/chrome/deb stable InRelease                  \n",
      "Ign:3 https://repo.mongodb.org/apt/ubuntu xenial/mongodb-org/3.6 InRelease     \n",
      "Hit:4 http://apt.pop-os.org/proprietary jammy InRelease                        \n",
      "Hit:5 http://apt.pop-os.org/release jammy InRelease                            \n",
      "Ign:6 https://ppa.launchpadcontent.net/bitcoin/bitcoin/ubuntu jammy InRelease  \n",
      "Ign:7 https://repo.mongodb.org/apt/ubuntu focal/mongodb-org/6.0 InRelease      \n",
      "Hit:9 http://apt.pop-os.org/ubuntu jammy InRelease                             \n",
      "Hit:10 https://repo.mongodb.org/apt/ubuntu xenial/mongodb-org/3.6 Release      \n",
      "Get:11 http://apt.pop-os.org/ubuntu jammy-security InRelease [110 kB]          \n",
      "Err:13 https://ppa.launchpadcontent.net/bitcoin/bitcoin/ubuntu jammy Release   \n",
      "  404  Not Found [IP: 2620:2d:4000:1::3e 443]\n",
      "Hit:14 https://repo.mongodb.org/apt/ubuntu focal/mongodb-org/6.0 Release       \n",
      "Hit:8 https://packagecloud.io/github/git-lfs/ubuntu jammy InRelease            \n",
      "Hit:16 https://europe-west6-apt.pkg.dev/projects/radicle-services radicle-cli InRelease\n",
      "Get:17 http://apt.pop-os.org/ubuntu jammy-updates InRelease [119 kB]\n",
      "Get:18 http://apt.pop-os.org/ubuntu jammy-backports InRelease [107 kB]\n",
      "Reading package lists... Done       \n",
      "W: https://repo.mongodb.org/apt/ubuntu/dists/xenial/mongodb-org/3.6/Release.gpg: Key is stored in legacy trusted.gpg keyring (/etc/apt/trusted.gpg), see the DEPRECATION section in apt-key(8) for details.\n",
      "E: The repository 'https://ppa.launchpadcontent.net/bitcoin/bitcoin/ubuntu jammy Release' does not have a Release file.\n",
      "N: Updating from such a repository can't be done securely, and is therefore disabled by default.\n",
      "N: See apt-secure(8) manpage for repository creation and user configuration details.\n",
      "W: https://repo.mongodb.org/apt/ubuntu/dists/focal/mongodb-org/6.0/Release.gpg: Key is stored in legacy trusted.gpg keyring (/etc/apt/trusted.gpg), see the DEPRECATION section in apt-key(8) for details.\n",
      "W: https://europe-west6-apt.pkg.dev/projects/radicle-services/dists/radicle-cli/InRelease: Key is stored in legacy trusted.gpg keyring (/etc/apt/trusted.gpg), see the DEPRECATION section in apt-key(8) for details.\n",
      "W: Target Packages (main/binary-amd64/Packages) is configured multiple times in /etc/apt/sources.list.d/radicle-registry.list:1 and /etc/apt/sources.list.d/radicle-registry.list:2\n",
      "W: Target Packages (main/binary-i386/Packages) is configured multiple times in /etc/apt/sources.list.d/radicle-registry.list:1 and /etc/apt/sources.list.d/radicle-registry.list:2\n",
      "W: Target Packages (main/binary-all/Packages) is configured multiple times in /etc/apt/sources.list.d/radicle-registry.list:1 and /etc/apt/sources.list.d/radicle-registry.list:2\n",
      "W: Target Translations (main/i18n/Translation-en_US) is configured multiple times in /etc/apt/sources.list.d/radicle-registry.list:1 and /etc/apt/sources.list.d/radicle-registry.list:2\n",
      "W: Target Translations (main/i18n/Translation-en) is configured multiple times in /etc/apt/sources.list.d/radicle-registry.list:1 and /etc/apt/sources.list.d/radicle-registry.list:2\n",
      "W: Target DEP-11 (main/dep11/Components-amd64.yml) is configured multiple times in /etc/apt/sources.list.d/radicle-registry.list:1 and /etc/apt/sources.list.d/radicle-registry.list:2\n",
      "W: Target DEP-11 (main/dep11/Components-all.yml) is configured multiple times in /etc/apt/sources.list.d/radicle-registry.list:1 and /etc/apt/sources.list.d/radicle-registry.list:2\n",
      "W: Target DEP-11-icons-small (main/dep11/icons-48x48.tar) is configured multiple times in /etc/apt/sources.list.d/radicle-registry.list:1 and /etc/apt/sources.list.d/radicle-registry.list:2\n",
      "W: Target DEP-11-icons (main/dep11/icons-64x64.tar) is configured multiple times in /etc/apt/sources.list.d/radicle-registry.list:1 and /etc/apt/sources.list.d/radicle-registry.list:2\n",
      "W: Target DEP-11-icons-hidpi (main/dep11/icons-64x64@2.tar) is configured multiple times in /etc/apt/sources.list.d/radicle-registry.list:1 and /etc/apt/sources.list.d/radicle-registry.list:2\n",
      "W: Target DEP-11-icons-large (main/dep11/icons-128x128.tar) is configured multiple times in /etc/apt/sources.list.d/radicle-registry.list:1 and /etc/apt/sources.list.d/radicle-registry.list:2\n",
      "W: Target CNF (main/cnf/Commands-amd64) is configured multiple times in /etc/apt/sources.list.d/radicle-registry.list:1 and /etc/apt/sources.list.d/radicle-registry.list:2\n",
      "W: Target CNF (main/cnf/Commands-all) is configured multiple times in /etc/apt/sources.list.d/radicle-registry.list:1 and /etc/apt/sources.list.d/radicle-registry.list:2\n",
      "N: Skipping acquire of configured file 'main/binary-i386/Packages' as repository 'https://europe-west6-apt.pkg.dev/projects/radicle-services radicle-cli InRelease' doesn't support architecture 'i386'\n",
      "W: Target Packages (main/binary-amd64/Packages) is configured multiple times in /etc/apt/sources.list.d/radicle-registry.list:1 and /etc/apt/sources.list.d/radicle-registry.list:2\n",
      "W: Target Packages (main/binary-i386/Packages) is configured multiple times in /etc/apt/sources.list.d/radicle-registry.list:1 and /etc/apt/sources.list.d/radicle-registry.list:2\n",
      "W: Target Packages (main/binary-all/Packages) is configured multiple times in /etc/apt/sources.list.d/radicle-registry.list:1 and /etc/apt/sources.list.d/radicle-registry.list:2\n",
      "W: Target Translations (main/i18n/Translation-en_US) is configured multiple times in /etc/apt/sources.list.d/radicle-registry.list:1 and /etc/apt/sources.list.d/radicle-registry.list:2\n",
      "W: Target Translations (main/i18n/Translation-en) is configured multiple times in /etc/apt/sources.list.d/radicle-registry.list:1 and /etc/apt/sources.list.d/radicle-registry.list:2\n",
      "W: Target DEP-11 (main/dep11/Components-amd64.yml) is configured multiple times in /etc/apt/sources.list.d/radicle-registry.list:1 and /etc/apt/sources.list.d/radicle-registry.list:2\n",
      "W: Target DEP-11 (main/dep11/Components-all.yml) is configured multiple times in /etc/apt/sources.list.d/radicle-registry.list:1 and /etc/apt/sources.list.d/radicle-registry.list:2\n",
      "W: Target DEP-11-icons-small (main/dep11/icons-48x48.tar) is configured multiple times in /etc/apt/sources.list.d/radicle-registry.list:1 and /etc/apt/sources.list.d/radicle-registry.list:2\n",
      "W: Target DEP-11-icons (main/dep11/icons-64x64.tar) is configured multiple times in /etc/apt/sources.list.d/radicle-registry.list:1 and /etc/apt/sources.list.d/radicle-registry.list:2\n",
      "W: Target DEP-11-icons-hidpi (main/dep11/icons-64x64@2.tar) is configured multiple times in /etc/apt/sources.list.d/radicle-registry.list:1 and /etc/apt/sources.list.d/radicle-registry.list:2\n",
      "W: Target DEP-11-icons-large (main/dep11/icons-128x128.tar) is configured multiple times in /etc/apt/sources.list.d/radicle-registry.list:1 and /etc/apt/sources.list.d/radicle-registry.list:2\n",
      "W: Target CNF (main/cnf/Commands-amd64) is configured multiple times in /etc/apt/sources.list.d/radicle-registry.list:1 and /etc/apt/sources.list.d/radicle-registry.list:2\n",
      "W: Target CNF (main/cnf/Commands-all) is configured multiple times in /etc/apt/sources.list.d/radicle-registry.list:1 and /etc/apt/sources.list.d/radicle-registry.list:2\n",
      "Hit:1 https://download.docker.com/linux/ubuntu jammy InRelease\n"
     ]
    },
    {
     "name": "stdout",
     "output_type": "stream",
     "text": [
      "Hit:2 https://dl.google.com/linux/chrome/deb stable InRelease                  \n",
      "Ign:3 https://repo.mongodb.org/apt/ubuntu xenial/mongodb-org/3.6 InRelease     \n",
      "Ign:4 https://repo.mongodb.org/apt/ubuntu focal/mongodb-org/6.0 InRelease      \n",
      "Hit:5 http://apt.pop-os.org/proprietary jammy InRelease                        \n",
      "Ign:6 https://ppa.launchpadcontent.net/bitcoin/bitcoin/ubuntu jammy InRelease  \n",
      "Hit:7 https://repo.mongodb.org/apt/ubuntu xenial/mongodb-org/3.6 Release       \n",
      "Hit:8 http://apt.pop-os.org/release jammy InRelease                            \n",
      "Hit:10 http://apt.pop-os.org/ubuntu jammy InRelease                            \n",
      "Hit:12 https://repo.mongodb.org/apt/ubuntu focal/mongodb-org/6.0 Release       \n",
      "Get:14 http://apt.pop-os.org/ubuntu jammy-security InRelease [110 kB]          \n",
      "Err:15 https://ppa.launchpadcontent.net/bitcoin/bitcoin/ubuntu jammy Release   \n",
      "  404  Not Found [IP: 2620:2d:4000:1::3e 443]\n",
      "Hit:16 https://europe-west6-apt.pkg.dev/projects/radicle-services radicle-cli InRelease\n",
      "Hit:11 https://packagecloud.io/github/git-lfs/ubuntu jammy InRelease           \n",
      "Get:17 http://apt.pop-os.org/ubuntu jammy-updates InRelease [119 kB]\n",
      "Get:18 http://apt.pop-os.org/ubuntu jammy-backports InRelease [107 kB]\n",
      "Reading package lists... Done      \n",
      "W: https://repo.mongodb.org/apt/ubuntu/dists/xenial/mongodb-org/3.6/Release.gpg: Key is stored in legacy trusted.gpg keyring (/etc/apt/trusted.gpg), see the DEPRECATION section in apt-key(8) for details.\n",
      "W: https://repo.mongodb.org/apt/ubuntu/dists/focal/mongodb-org/6.0/Release.gpg: Key is stored in legacy trusted.gpg keyring (/etc/apt/trusted.gpg), see the DEPRECATION section in apt-key(8) for details.\n",
      "E: The repository 'https://ppa.launchpadcontent.net/bitcoin/bitcoin/ubuntu jammy Release' does not have a Release file.\n",
      "N: Updating from such a repository can't be done securely, and is therefore disabled by default.\n",
      "N: See apt-secure(8) manpage for repository creation and user configuration details.\n",
      "W: https://europe-west6-apt.pkg.dev/projects/radicle-services/dists/radicle-cli/InRelease: Key is stored in legacy trusted.gpg keyring (/etc/apt/trusted.gpg), see the DEPRECATION section in apt-key(8) for details.\n",
      "W: Target Packages (main/binary-amd64/Packages) is configured multiple times in /etc/apt/sources.list.d/radicle-registry.list:1 and /etc/apt/sources.list.d/radicle-registry.list:2\n",
      "W: Target Packages (main/binary-i386/Packages) is configured multiple times in /etc/apt/sources.list.d/radicle-registry.list:1 and /etc/apt/sources.list.d/radicle-registry.list:2\n",
      "W: Target Packages (main/binary-all/Packages) is configured multiple times in /etc/apt/sources.list.d/radicle-registry.list:1 and /etc/apt/sources.list.d/radicle-registry.list:2\n",
      "W: Target Translations (main/i18n/Translation-en_US) is configured multiple times in /etc/apt/sources.list.d/radicle-registry.list:1 and /etc/apt/sources.list.d/radicle-registry.list:2\n",
      "W: Target Translations (main/i18n/Translation-en) is configured multiple times in /etc/apt/sources.list.d/radicle-registry.list:1 and /etc/apt/sources.list.d/radicle-registry.list:2\n",
      "W: Target DEP-11 (main/dep11/Components-amd64.yml) is configured multiple times in /etc/apt/sources.list.d/radicle-registry.list:1 and /etc/apt/sources.list.d/radicle-registry.list:2\n",
      "W: Target DEP-11 (main/dep11/Components-all.yml) is configured multiple times in /etc/apt/sources.list.d/radicle-registry.list:1 and /etc/apt/sources.list.d/radicle-registry.list:2\n",
      "W: Target DEP-11-icons-small (main/dep11/icons-48x48.tar) is configured multiple times in /etc/apt/sources.list.d/radicle-registry.list:1 and /etc/apt/sources.list.d/radicle-registry.list:2\n",
      "W: Target DEP-11-icons (main/dep11/icons-64x64.tar) is configured multiple times in /etc/apt/sources.list.d/radicle-registry.list:1 and /etc/apt/sources.list.d/radicle-registry.list:2\n",
      "W: Target DEP-11-icons-hidpi (main/dep11/icons-64x64@2.tar) is configured multiple times in /etc/apt/sources.list.d/radicle-registry.list:1 and /etc/apt/sources.list.d/radicle-registry.list:2\n",
      "W: Target DEP-11-icons-large (main/dep11/icons-128x128.tar) is configured multiple times in /etc/apt/sources.list.d/radicle-registry.list:1 and /etc/apt/sources.list.d/radicle-registry.list:2\n",
      "W: Target CNF (main/cnf/Commands-amd64) is configured multiple times in /etc/apt/sources.list.d/radicle-registry.list:1 and /etc/apt/sources.list.d/radicle-registry.list:2\n",
      "W: Target CNF (main/cnf/Commands-all) is configured multiple times in /etc/apt/sources.list.d/radicle-registry.list:1 and /etc/apt/sources.list.d/radicle-registry.list:2\n",
      "N: Skipping acquire of configured file 'main/binary-i386/Packages' as repository 'https://europe-west6-apt.pkg.dev/projects/radicle-services radicle-cli InRelease' doesn't support architecture 'i386'\n",
      "W: Target Packages (main/binary-amd64/Packages) is configured multiple times in /etc/apt/sources.list.d/radicle-registry.list:1 and /etc/apt/sources.list.d/radicle-registry.list:2\n",
      "W: Target Packages (main/binary-i386/Packages) is configured multiple times in /etc/apt/sources.list.d/radicle-registry.list:1 and /etc/apt/sources.list.d/radicle-registry.list:2\n",
      "W: Target Packages (main/binary-all/Packages) is configured multiple times in /etc/apt/sources.list.d/radicle-registry.list:1 and /etc/apt/sources.list.d/radicle-registry.list:2\n",
      "W: Target Translations (main/i18n/Translation-en_US) is configured multiple times in /etc/apt/sources.list.d/radicle-registry.list:1 and /etc/apt/sources.list.d/radicle-registry.list:2\n",
      "W: Target Translations (main/i18n/Translation-en) is configured multiple times in /etc/apt/sources.list.d/radicle-registry.list:1 and /etc/apt/sources.list.d/radicle-registry.list:2\n",
      "W: Target DEP-11 (main/dep11/Components-amd64.yml) is configured multiple times in /etc/apt/sources.list.d/radicle-registry.list:1 and /etc/apt/sources.list.d/radicle-registry.list:2\n",
      "W: Target DEP-11 (main/dep11/Components-all.yml) is configured multiple times in /etc/apt/sources.list.d/radicle-registry.list:1 and /etc/apt/sources.list.d/radicle-registry.list:2\n",
      "W: Target DEP-11-icons-small (main/dep11/icons-48x48.tar) is configured multiple times in /etc/apt/sources.list.d/radicle-registry.list:1 and /etc/apt/sources.list.d/radicle-registry.list:2\n",
      "W: Target DEP-11-icons (main/dep11/icons-64x64.tar) is configured multiple times in /etc/apt/sources.list.d/radicle-registry.list:1 and /etc/apt/sources.list.d/radicle-registry.list:2\n",
      "W: Target DEP-11-icons-hidpi (main/dep11/icons-64x64@2.tar) is configured multiple times in /etc/apt/sources.list.d/radicle-registry.list:1 and /etc/apt/sources.list.d/radicle-registry.list:2\n",
      "W: Target DEP-11-icons-large (main/dep11/icons-128x128.tar) is configured multiple times in /etc/apt/sources.list.d/radicle-registry.list:1 and /etc/apt/sources.list.d/radicle-registry.list:2\n",
      "W: Target CNF (main/cnf/Commands-amd64) is configured multiple times in /etc/apt/sources.list.d/radicle-registry.list:1 and /etc/apt/sources.list.d/radicle-registry.list:2\n",
      "W: Target CNF (main/cnf/Commands-all) is configured multiple times in /etc/apt/sources.list.d/radicle-registry.list:1 and /etc/apt/sources.list.d/radicle-registry.list:2\n",
      "Reading package lists... Done\n",
      "Building dependency tree... Done\n",
      "Reading state information... Done\n",
      "E: Unable to locate package bitcoind\n"
     ]
    }
   ],
   "source": [
    "### Package Installation\n",
    "\n",
    "# Installing the BitCoin Core Software\n",
    "!pkexec apt-add-repository ppa:bitcoin/bitcoin -y\n",
    "!pkexec apt-get update\n",
    "!pkexec apt-get install bitcoind -y\n",
    "    "
   ]
  },
  {
   "cell_type": "markdown",
   "id": "7b29f1d4",
   "metadata": {},
   "source": [
    "Method 1 failed because there's no corresponding package(bitcoind). Therefore, manually installing the bitcoin core on my Ubuntu 21.04 following the guide: https://www.cyberithub.com/how-to-install-and-setup-bitcoin-core-on-ubuntu-20-04-lts/ (Method 2)"
   ]
  },
  {
   "cell_type": "code",
   "execution_count": 101,
   "id": "0776d248",
   "metadata": {},
   "outputs": [
    {
     "name": "stdout",
     "output_type": "stream",
     "text": [
      "Bitcoin Core version v0.20.1\r\n",
      "Copyright (C) 2009-2020 The Bitcoin Core developers\r\n",
      "\r\n",
      "Please contribute if you find Bitcoin Core useful. Visit\r\n",
      "<https://bitcoincore.org/> for further information about the software.\r\n",
      "The source code is available from <https://github.com/bitcoin/bitcoin>.\r\n",
      "\r\n",
      "This is experimental software.\r\n",
      "Distributed under the MIT software license, see the accompanying file COPYING\r\n",
      "or <https://opensource.org/licenses/MIT>\r\n",
      "\r\n"
     ]
    }
   ],
   "source": [
    "# Checking if bitcoind is installed or not\n",
    "!bitcoind --version"
   ]
  },
  {
   "cell_type": "code",
   "execution_count": 142,
   "id": "b23114ad",
   "metadata": {},
   "outputs": [
    {
     "name": "stdout",
     "output_type": "stream",
     "text": [
      "Bitcoin Core starting\r\n"
     ]
    }
   ],
   "source": [
    "# Starting the Bitcoin Daemon\n",
    "!bitcoind -regtest -daemon"
   ]
  },
  {
   "cell_type": "markdown",
   "id": "cfff9d96",
   "metadata": {},
   "source": [
    "The Regression Test Network (regtest) is a parallel blockchain to the Bitcoin blockchain. It works almost identically to the Bitcoin network, but it is used for private development. Regtest is most similar to testnet in that the coins on the regtest network are not monetized."
   ]
  },
  {
   "cell_type": "markdown",
   "id": "370b31f6",
   "metadata": {},
   "source": [
    "### Wallet Creation"
   ]
  },
  {
   "cell_type": "code",
   "execution_count": 177,
   "id": "7a1b4c21",
   "metadata": {},
   "outputs": [
    {
     "name": "stdout",
     "output_type": "stream",
     "text": [
      "{\r\n",
      "  \"name\": \"thapa_sabin\",\r\n",
      "  \"warning\": \"\"\r\n",
      "}\r\n"
     ]
    }
   ],
   "source": [
    "# Creating a wallet named \"thapa_sabin\" using bitcoin-cli\n",
    "!bitcoin-cli -regtest createwallet thapa_sabin false"
   ]
  },
  {
   "cell_type": "code",
   "execution_count": 178,
   "id": "3016dc01",
   "metadata": {},
   "outputs": [
    {
     "name": "stdout",
     "output_type": "stream",
     "text": [
      "bcrt1q9zdaq2gsm2gjlweaezy4hayjyct2g6kchsvt7d\r\n"
     ]
    }
   ],
   "source": [
    "#Generating an address to mine bitcoins in the following sections\n",
    "!bitcoin-cli -regtest -rpcwallet=thapa_sabin getnewaddress"
   ]
  },
  {
   "cell_type": "code",
   "execution_count": 179,
   "id": "1e619e16",
   "metadata": {},
   "outputs": [
    {
     "name": "stdout",
     "output_type": "stream",
     "text": [
      "0.00000000\r\n"
     ]
    }
   ],
   "source": [
    "# Checking the current balance in the wallet: \"thapa_sabin\"\n",
    "!bitcoin-cli -regtest -rpcwallet=thapa_sabin getbalance"
   ]
  },
  {
   "cell_type": "markdown",
   "id": "b105492b",
   "metadata": {},
   "source": [
    "Since we have just created the wallet and not mined any block yet, the balance is 0.\n",
    "To get bitocin balance, mining should be done as follows:"
   ]
  },
  {
   "cell_type": "markdown",
   "id": "791da99e",
   "metadata": {},
   "source": [
    "### Mining"
   ]
  },
  {
   "cell_type": "code",
   "execution_count": 187,
   "id": "f53ce3f3",
   "metadata": {},
   "outputs": [
    {
     "name": "stdout",
     "output_type": "stream",
     "text": [
      "[\r\n",
      "  \"18fde654dbbe357e926c4f27f9e9c01a2aa7b3befac08b1518e4b3d9ecdb337d\",\r\n",
      "  \"2f91045fcbeb6ed680956387df7bfa85549fdf47f0eeb5b00e65757322af3cca\",\r\n",
      "  \"0fb495f26eeffcf63fd75922851ad6fc3bcc0e103399a2280d1bdc4314cf1dda\",\r\n",
      "  \"41647151be3d912e7c5a5f723fa21bd49262dc1868b22d1efab71407f38e419f\",\r\n",
      "  \"3a46a34ff61b826f52bbbc5ecf6e65f8ac1912b3c37fa7d2c24b01cf0bf60202\",\r\n",
      "  \"4a41845afca8f1f0c84832a9d5774f5d654eb52190d954f90c94e2649ffe0254\",\r\n",
      "  \"33e3171e6154c334abd264b3818e99a2ee49d19b8a03d869cc29e644149edb6d\",\r\n",
      "  \"2ab622ed9e60d34b987a1d6f68dece542b26753ae2ce11591a36008398494fb7\",\r\n",
      "  \"5677dc7a015d0fe5391eb1244d56a281b8d85cc9024617ac0a544738e9ed050c\",\r\n",
      "  \"763d7294a50a3c7c87c6670235ea181585b6c5afa435279665c6dd705c6a24ac\",\r\n",
      "  \"22d7c8cc94ca0d155387de10dc53218d8454daac087e9ea07cfa887528734cde\",\r\n",
      "  \"39eebb503d508ff9e420612224a5d1f24d2c132e130cf321602b37d698537444\",\r\n",
      "  \"386af02bb10daa9f944c7a42c5a4d938ea468e8f0de6cf3696db68d5a4d6e075\",\r\n",
      "  \"03d07639e81842fd2fa90df695d70a22af8ba400d48adba392d873e261ffdf84\",\r\n",
      "  \"1a5d40a8e9d89b5a03fbb4fe7cd0f645c32a17253077445106490a0eb9295023\",\r\n",
      "  \"50728437b638070d48d72f4fbcc114ba457b2d6bc6569699ecc784879730827b\",\r\n",
      "  \"44fd0c06a366528a3daf028fdac879a43609036aaa2800eb738e3b0f3cf8b277\",\r\n",
      "  \"578ff1567c2c3895820fc718f203eafa33a7b377d42490ecba0be78ce66c3808\",\r\n",
      "  \"3dc1f68e710f18695f2fca485b55ca02134ff69e52cd92de024f4962f917eb98\",\r\n",
      "  \"267729af88dbf1f9040dd12b44ac65e684c6446b4e1eed6ee5d8b27a89731c3d\",\r\n",
      "  \"2b9b369d7e65659bf496d211cd26d278d616d4eacbb065be685f7a5d7d36e3fe\",\r\n",
      "  \"07c28b35840d4448ccceb30cc008acb3cc124da8ee9b4f597b4fe0ef000fdff6\",\r\n",
      "  \"07447ead5767c907cedd45c203dd620dde3b800294efefa3885cd681d52d9de9\",\r\n",
      "  \"595558ec28402389b433c244419d6b34e793b262bbc9690805c9e4b86e1fc9ef\",\r\n",
      "  \"7c0c26e9ab0bb9944026a2d0ebe18251b15b0275c87a1baac36d0450ea815988\",\r\n",
      "  \"19cdcd5baa5148eb236b9cbfb899fb3cabc61b4533c1beca5d7f1754035faa40\",\r\n",
      "  \"51b82e3c16fc4be9c6b3d599d37683c4380df49dfaac637e0e9cc5e9815a4449\",\r\n",
      "  \"1d250043ff1d977acc732e9b82c476a1417baf1603c19b33024c11ec4e6dbecd\",\r\n",
      "  \"53e7fbbe0aba19fced48fa93df4c291d9f16d0cfd6c953d3d1c810494d3d18f2\",\r\n",
      "  \"5faf8b534c471d6b9e2a387316bdbdc268f988932bd99c0a99a7089dcf68594c\",\r\n",
      "  \"33d36d702fc70bfc30e1093183f59c1c0d02fe7b0afec4bdcfab92cc6fc1cce1\",\r\n",
      "  \"32014560c8cf4fd96150ebd6afe099378fa49117d2f3e99d9e0b0d1caaf627e8\",\r\n",
      "  \"45b7667712fda5762bb0160dd4e4a6f806b276bff92505cf15ebe5dce94bf174\",\r\n",
      "  \"08b8595e45e3cc90e1faef4082064d1354d3ec2ebb5c893b6f3dadc95f8f53b2\",\r\n",
      "  \"6c48d0861329379da9401a15d6ff71c9f56bfb843b663ca88deb46f515da4546\",\r\n",
      "  \"1e9dcdb9fc27a45e46feee46e21017d7b5cde73e153899fce2589dd4e77b4006\",\r\n",
      "  \"46e8d2ed33ab967afe23a58ec4c9c7ba2860143ea3ef56e747cf69edaf75f35b\",\r\n",
      "  \"5179e1da6712c1372b8814b1ac2befd095609dca0d1370e8e992d27a063706da\",\r\n",
      "  \"285a3fd50b1216690d2b1101708ef51cf8204bb0683ea531de5fe5a15b911f7c\",\r\n",
      "  \"4ec78effdf80880445320042e8a6f5fc1c9486fe19118247271414bae2337011\",\r\n",
      "  \"00f8c3f3bbba4f083447d51fdd3449ecd0f075d8778c334ed837bda21c90b6be\",\r\n",
      "  \"5aa135497ca684718a9cee86983142e9e78ca5137e6f52a673ac2529d950efe3\",\r\n",
      "  \"3ab5e323530530000afa55c7634311f229ba93cec35ecc8432b2c350b0ec58f7\",\r\n",
      "  \"496a344f4d276d9deec2a6ac760102127b6a10ba9a59a0c3abff498faec0243a\",\r\n",
      "  \"76571fa1712865222fe57b0d8852d128f946473a14b1db0ca29ea28a485eb8b5\",\r\n",
      "  \"3d012943b5212280b839916a53710526436fe6c4a8beb5d96eca218c07c1f79f\",\r\n",
      "  \"02f37e1da5e4e25a195a9a65868dee613046b72d8a344e966f6f41e77cab532f\",\r\n",
      "  \"1d1e1abb6e9e352588e67d0a151221c21deee86b51fb971cc700e33c317145b8\",\r\n",
      "  \"1e54ca49066219b27c24e91124bafc9552567a7d1359db40621c7083525d6d54\",\r\n",
      "  \"6d8b97dc59c1ca371018784ce4808f4bcd91c0a5df6013e6adc32166bf395577\",\r\n",
      "  \"0889df91cca3d76670f085e8e406320edba8726e976f27e2352b9e3717fc4f9d\",\r\n",
      "  \"3dc99a7e5635c2835c30b006182b3b8a964730b31ed91517136a41ca826fa56a\",\r\n",
      "  \"73bdea14965b140efc4d9bcd57ccb178ebaec9eb44a22e782eac28866c829d9a\",\r\n",
      "  \"377edf0b49156be6b5179e15d5a5199841e16ef374eaad5e39a079c1fc773077\",\r\n",
      "  \"71be0495d245a4a35debb7ea3f68bb3960fc5907c7398abfcc9ce9e5d89f6164\",\r\n",
      "  \"4edfca4f9af07920537807e7cfaadccee9590e25591b5229ab3bf212a0215006\",\r\n",
      "  \"3898c80c3522a154bb3fb5916a5a8af0ad42ea1926bc5be4921530c2468c1b87\",\r\n",
      "  \"119db041231681c44ac8a7e7ee67bfd09cd5c452ea6778dc6dfe0053d5883b0a\",\r\n",
      "  \"5ee82425c9f53f66d22532fe27dae0c85d104c7b5937827b0ee7aec6b907754b\",\r\n",
      "  \"09724e39ce929fb04b6a344884dee62fb54e675bd70b7df0aeea35f8ffcdb174\",\r\n",
      "  \"25e9ffe8550db5cb401d222aa1c7fd866595a9ee1ad6a4cf5a3290221bfb4b2c\",\r\n",
      "  \"3cc6c604ef8fe69e2b71fb52816cf5405d33407f4bfdd98739c808e09f2b4199\",\r\n",
      "  \"1d43d06c2844543e2a39500e76deb0b969bde0d1fb778d22ee11af3494e29e28\",\r\n",
      "  \"3d592c2c3124b01e3741a6974b20c4effa335ee55a10d747fd874b88d8673116\",\r\n",
      "  \"1ca05addeca07677784002e30e47fb1364a43e3f601d69ab7eaf6cd5fc522686\",\r\n",
      "  \"62b62b30ddae5a29d76270da20f0bd9bc4c7570019c9e29c2d8bda91b7874163\",\r\n",
      "  \"7c9d109dc1b15268f11240e3d071c9b3e5cfe6e5e30a9cf638021d039cf8bb90\",\r\n",
      "  \"7395f75116eaa6d7c355dfa43f44a00dc3a022ba21b7aa928e100d54ba99709c\",\r\n",
      "  \"12fae972251350de5f020a34abdd2b40ca087bb1a21b2a4869d67f3c3620b0a9\",\r\n",
      "  \"509f0569c5fe2fa79b688c68b921aeb481735859f0b2ab8f7149a6f758de0c02\",\r\n",
      "  \"6f389bad75a638a16373b5c2f12feec54638e7a6d0c336b5ae3c5709473993ed\",\r\n",
      "  \"5fb794d75c70ca3d2973bbba07580b3757e78b277ae3b6206e93cdd506524178\",\r\n",
      "  \"253c8b6e5187b16ff9168a7ffb6f5581605ae02757e7742ade52e5185115b1f6\",\r\n",
      "  \"3b69344c44d12a0e67d29cb107af0914900e086b745edd4d9664cf1a20f055ca\",\r\n",
      "  \"16a2fe40af1e1b9eb2aa656074b192819dc9820189089f79f4905fef7c8dadb4\",\r\n",
      "  \"36acdc028667750c859aec1aea7cf25c668f3930c3115ae3b42bacce701d3653\",\r\n",
      "  \"0a906a43b5687daa72c56b8005bf3b2f7d1e3d50e58484fd7fea179b70cbd91e\",\r\n",
      "  \"75bf5c5716a5bae0c45d221f4854c1eaca28f8715ae7c4c9e9bc71a145c47bb2\",\r\n",
      "  \"5261f9d4bc40445603109039da32801d9b55362ca92f8ce1b25b90292b57b5ab\",\r\n",
      "  \"4f61e685bcb7a2a19332fd1636b7a2d7311749b75bd49c27abcc40c90afe42a2\",\r\n",
      "  \"2cfda46aafbf5a99d4ee60680923968a8293404cbefbf2a90399756760c8a8ac\",\r\n",
      "  \"0a9ef0f90169c4dc68cc5ab918e2e22cb14f7266566b3526d4fd85156b34dd07\",\r\n",
      "  \"1e821610fcde26eb0b0b022a77a2e1ab1d3b1065b0f52cac61c73225bea50174\",\r\n",
      "  \"385d7bd272448f0b881ae37e82d825c06b60467aaa407a4aa9982806f1aa6673\",\r\n",
      "  \"7f4d01683933a5565ad20c2e663e16c87f5bb09a1bfbedc9422a6670a908a2e3\",\r\n",
      "  \"3978922ddecb782e3a0f59d8e1dc85654203517a578e0bb40b29d5cc69c184a9\",\r\n",
      "  \"14e7fdf10afe8d353a557ff5f137f9b84459616000975731117732168ec5faeb\",\r\n",
      "  \"3ca0975e06f22f71f2b95257cbc45c487bcdcb184e5833e586c6d20a2b523f7d\",\r\n",
      "  \"28d845d682d0b611d47a5a9f6ae2e7789b65ca5350aebed291401d4c9993eb30\",\r\n",
      "  \"09157e3174fff3b83cdd964544754daf87f579feff68dcf064b275173b9067a9\",\r\n",
      "  \"15b8139654a1c70b5a841c66562df04a42b7725f3e4da326a2898fe6e69a80a0\",\r\n",
      "  \"25eb6772547e62c88ce7990bdce75789e516fd0005f7f7e6f10e6689de9bb336\",\r\n",
      "  \"77f3e5b8b7fd5c9fc27382dc0c6280d5d6214c6a59ac7b8cf0cec789250d770e\",\r\n",
      "  \"1f9a14364b95c4f00b6b6e40e2afe18ee24ac243c2995311e66ba5c3735c16f7\",\r\n",
      "  \"52c7e8f4e86f307ace90172177adede7fa429f3e64827281bdceca12bcfc9afa\",\r\n",
      "  \"7e60813db1a5bebe4ece20c7eb9775516af7d97f01ad4ca27c598b198161d2c8\",\r\n",
      "  \"397c783394acdd54090a4ad1c4235f5acba401034dd3acb05539e09c25ff2bf1\",\r\n",
      "  \"76706c39bb2d270a744de243a48abe89f9deb42eeafeda1bbd49fb4db2a308a5\",\r\n",
      "  \"24fc9016d6b52bddce29a88a28e7b70147ac8a7e15affbd246779906b38b4b7c\",\r\n",
      "  \"0f61ae9f97dd7810cd9c7171264c853eb718c9cf95ea10c183d036e9a009b5ef\"\r\n",
      "]\r\n"
     ]
    }
   ],
   "source": [
    "#Mining 100 blocks to get coins\n",
    "!bitcoin-cli -regtest -rpcwallet=thapa_sabin generatetoaddress 100 bcrt1q9zdaq2gsm2gjlweaezy4hayjyct2g6kchsvt7d"
   ]
  },
  {
   "cell_type": "markdown",
   "id": "9ca0affe",
   "metadata": {},
   "source": [
    "### Balance checking and creating a transaction"
   ]
  },
  {
   "cell_type": "code",
   "execution_count": 188,
   "id": "7e855a17",
   "metadata": {},
   "outputs": [
    {
     "name": "stdout",
     "output_type": "stream",
     "text": [
      "312.50005846\r\n"
     ]
    }
   ],
   "source": [
    "# Checking the current balance again after mining\n",
    "!bitcoin-cli -regtest -rpcwallet=thapa_sabin getbalance"
   ]
  },
  {
   "cell_type": "code",
   "execution_count": 192,
   "id": "bb222035",
   "metadata": {},
   "outputs": [
    {
     "name": "stdout",
     "output_type": "stream",
     "text": [
      "844\r\n"
     ]
    }
   ],
   "source": [
    "# Get block count\n",
    "!bitcoin-cli -regtest -rpcwallet=thapa_sabin getblockcount"
   ]
  },
  {
   "cell_type": "markdown",
   "id": "fe7ea570",
   "metadata": {},
   "source": [
    "We've successfully mined 100 blocks and now the wallet balance has been increased to 312.5 from 0. Now that we have some balance, we can send the balance to some other address. Firstly, generating an address to send the coins to and then sending the coins to the address in the following section."
   ]
  },
  {
   "cell_type": "code",
   "execution_count": 172,
   "id": "8270d4d5",
   "metadata": {},
   "outputs": [
    {
     "name": "stdout",
     "output_type": "stream",
     "text": [
      "bcrt1qsdcf5tu63kp735xat8x9jyuhmsqz03ux7r7ggf\r\n"
     ]
    }
   ],
   "source": [
    "# Generate another address to send bitcoin to\n",
    "!bitcoin-cli -regtest -rpcwallet=thapa_sabin getnewaddress"
   ]
  },
  {
   "cell_type": "code",
   "execution_count": 193,
   "id": "4f47f594",
   "metadata": {},
   "outputs": [
    {
     "name": "stdout",
     "output_type": "stream",
     "text": [
      "true\r\n"
     ]
    }
   ],
   "source": [
    "# Set the transaction fee per kB for this wallet. \n",
    "# Overrides the global -paytxfee command line parameter.\n",
    "!bitcoin-cli -regtest -rpcwallet=thapa_sabin settxfee 0.00001"
   ]
  },
  {
   "cell_type": "markdown",
   "id": "f455aab2",
   "metadata": {},
   "source": [
    "### Transaction"
   ]
  },
  {
   "cell_type": "code",
   "execution_count": 195,
   "id": "c9950c27",
   "metadata": {},
   "outputs": [
    {
     "name": "stdout",
     "output_type": "stream",
     "text": [
      "1f2fe8313cb72303c184add38a3820e2d77791ac503ec3677007a2d7eaa96b5f\r\n"
     ]
    }
   ],
   "source": [
    "# Creating a transaction by running the sendtoaddress command\n",
    "!bitcoin-cli -regtest -rpcwallet=thapa_sabin sendtoaddress \"bcrt1qsdcf5tu63kp735xat8x9jyuhmsqz03ux7r7ggf\" 100\n"
   ]
  },
  {
   "cell_type": "code",
   "execution_count": 196,
   "id": "9dd506d2",
   "metadata": {},
   "outputs": [
    {
     "name": "stdout",
     "output_type": "stream",
     "text": [
      "212.50003537\r\n"
     ]
    }
   ],
   "source": [
    "# Checking the balance after the transaction\n",
    "!bitcoin-cli -regtest -rpcwallet=thapa_sabin getbalance"
   ]
  },
  {
   "cell_type": "markdown",
   "id": "f7606770",
   "metadata": {},
   "source": [
    "Note that the balance has decreased from 312.5 to 212.5 after sending 100 BTC. It means that the transaction has been successful. "
   ]
  },
  {
   "cell_type": "code",
   "execution_count": 197,
   "id": "72f75abe",
   "metadata": {},
   "outputs": [
    {
     "name": "stdout",
     "output_type": "stream",
     "text": [
      "[\r\n",
      "  \"35bdd0775204846c3760d3e1d85e9e48d33da8850577a59471cc7e4f8db991ea\",\r\n",
      "  \"172e2e4d61dd7d2c8440865083b222d452016c080004bcf3c025bad6b0da4e29\",\r\n",
      "  \"25c89301d6a3cd4a0359c7671f1ecbf7a3bd9297e3e1109c786a89141b6e2255\",\r\n",
      "  \"12a9871959185d252b6186baf5b522ea55ed77ec7af1f58a95df41a407a95f9f\",\r\n",
      "  \"4860af2843ec7745e15c431f1a0b529b9a8230fdacee50adf28e77b33670e791\",\r\n",
      "  \"05b2155fb508d8b77e0eb0b3fdcde965f1c0b5b63756b8ce89f525c2d971aad9\",\r\n",
      "  \"47fc75aab6c2bff7df646c2deb1ab11e74890458ca565c42ca53c11ae8deea6b\",\r\n",
      "  \"48cfdd0a1050025ace237b3b1e9e6c2a7a1024ca38493d612d71efcd381c6d5c\",\r\n",
      "  \"60c9faca691526ee714ffe97d0340f2fc183b28d0c3e07bbcdd89059dc391935\",\r\n",
      "  \"781a783c3b858c0aa953910cf9365fe772f745764f3c3a975ed03e82bf479e22\"\r\n",
      "]\r\n"
     ]
    }
   ],
   "source": [
    "# Again Mining 10 block to get coins\n",
    "!bitcoin-cli -regtest -rpcwallet=thapa_sabin generatetoaddress 10 bcrt1qam2unem0frpz4ed9fe8v73wnm9tzsnth2ze44a"
   ]
  },
  {
   "cell_type": "code",
   "execution_count": 198,
   "id": "0a8418f2",
   "metadata": {},
   "outputs": [
    {
     "name": "stdout",
     "output_type": "stream",
     "text": [
      "854\r\n"
     ]
    }
   ],
   "source": [
    "# Get block count\n",
    "!bitcoin-cli -regtest -rpcwallet=thapa_sabin getblockcount"
   ]
  },
  {
   "cell_type": "code",
   "execution_count": 199,
   "id": "2a256cde",
   "metadata": {},
   "outputs": [
    {
     "name": "stdout",
     "output_type": "stream",
     "text": [
      "235.93753537\r\n"
     ]
    }
   ],
   "source": [
    "# Checking the balance after mining\n",
    "!bitcoin-cli -regtest -rpcwallet=thapa_sabin getbalance"
   ]
  },
  {
   "cell_type": "markdown",
   "id": "41184fc1",
   "metadata": {},
   "source": [
    "The block count has been increased to 854 from 844 after mining 10 blocks and the balance has also increased"
   ]
  },
  {
   "cell_type": "code",
   "execution_count": 200,
   "id": "e16e3ba6",
   "metadata": {},
   "outputs": [
    {
     "name": "stdout",
     "output_type": "stream",
     "text": [
      "{\r\n",
      "  \"walletname\": \"thapa_sabin\",\r\n",
      "  \"walletversion\": 169900,\r\n",
      "  \"balance\": 235.93753537,\r\n",
      "  \"unconfirmed_balance\": 0.00000000,\r\n",
      "  \"immature_balance\": 140.62500000,\r\n",
      "  \"txcount\": 201,\r\n",
      "  \"keypoololdest\": 1676710385,\r\n",
      "  \"keypoolsize\": 1000,\r\n",
      "  \"hdseedid\": \"4f3d7f9afcb3771647a7d0d81f071d3e853d3760\",\r\n",
      "  \"keypoolsize_hd_internal\": 999,\r\n",
      "  \"paytxfee\": 0.00001000,\r\n",
      "  \"private_keys_enabled\": true,\r\n",
      "  \"avoid_reuse\": false,\r\n",
      "  \"scanning\": false\r\n",
      "}\r\n"
     ]
    }
   ],
   "source": [
    "# Checking the wallet info\n",
    "!bitcoin-cli -regtest -rpcwallet=thapa_sabin getwalletinfo"
   ]
  },
  {
   "cell_type": "markdown",
   "id": "b4c4fd3f",
   "metadata": {},
   "source": [
    "## Summary"
   ]
  },
  {
   "cell_type": "markdown",
   "id": "5de3a523",
   "metadata": {},
   "source": [
    "Using bitcoind's regtest mode, it was possible to create a private Bitcoin cluster with an arbitrary number of nodes. It was very useful for testing as it gave the ability to mine blocks by hand and see the transaction results.\n",
    "Firstly, bitcoin core was downloaded and unpacked into the system. Then, credentials were added to bitcoin.conf file(created) inside the .bitcoin directory.\n",
    "Then, we were able to make transactions using the bitcoin-cli daemon."
   ]
  }
 ],
 "metadata": {
  "kernelspec": {
   "display_name": "venv",
   "language": "python",
   "name": "venv"
  },
  "language_info": {
   "codemirror_mode": {
    "name": "ipython",
    "version": 3
   },
   "file_extension": ".py",
   "mimetype": "text/x-python",
   "name": "python",
   "nbconvert_exporter": "python",
   "pygments_lexer": "ipython3",
   "version": "3.10.6"
  }
 },
 "nbformat": 4,
 "nbformat_minor": 5
}
